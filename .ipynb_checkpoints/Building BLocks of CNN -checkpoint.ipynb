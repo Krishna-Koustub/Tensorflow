{
 "cells": [
  {
   "cell_type": "code",
   "execution_count": 1,
   "id": "5d741510",
   "metadata": {},
   "outputs": [],
   "source": [
    "import numpy as np\n",
    "from numpy import asarray"
   ]
  },
  {
   "cell_type": "code",
   "execution_count": 2,
   "id": "72113749",
   "metadata": {},
   "outputs": [],
   "source": [
    "data = [[3,3,2,1,0],\n",
    "        [0,0,1,3,1],\n",
    "        [3,1,2,2,3],\n",
    "        [2,0,0,2,2],\n",
    "        [2,0,0,0,1]]"
   ]
  },
  {
   "cell_type": "code",
   "execution_count": 3,
   "id": "0d75c5e9",
   "metadata": {},
   "outputs": [],
   "source": [
    "data = np.asarray(data)\n",
    "data = data.reshape(1,5,5,1)"
   ]
  },
  {
   "cell_type": "code",
   "execution_count": 15,
   "id": "76dea7ca",
   "metadata": {},
   "outputs": [],
   "source": [
    "kernel =  [[[[0]],[[1]],[[2]]],\n",
    "          [[[2]], [[2]],[[0]]],\n",
    "          [[[0]],[[1]], [[2]]]]\n",
    "\n",
    "weights = [asarray(kernel), asarray([0.0])]"
   ]
  },
  {
   "cell_type": "code",
   "execution_count": 16,
   "id": "230cd361",
   "metadata": {},
   "outputs": [],
   "source": [
    "from keras.models import Sequential\n",
    "from keras.layers import Conv2D"
   ]
  },
  {
   "cell_type": "code",
   "execution_count": 18,
   "id": "7b6afed6",
   "metadata": {},
   "outputs": [
    {
     "name": "stdout",
     "output_type": "stream",
     "text": [
      "Model: \"sequential\"\n",
      "_________________________________________________________________\n",
      " Layer (type)                Output Shape              Param #   \n",
      "=================================================================\n",
      " conv2d (Conv2D)             (None, 3, 3, 1)           10        \n",
      "                                                                 \n",
      "=================================================================\n",
      "Total params: 10\n",
      "Trainable params: 10\n",
      "Non-trainable params: 0\n",
      "_________________________________________________________________\n"
     ]
    }
   ],
   "source": [
    "model = Sequential()\n",
    "model.add(Conv2D(1,(3,3), input_shape=(5,5,1)))\n",
    "model.summary()"
   ]
  },
  {
   "cell_type": "code",
   "execution_count": 20,
   "id": "3dc0d3c1",
   "metadata": {},
   "outputs": [
    {
     "name": "stdout",
     "output_type": "stream",
     "text": [
      "[12.0, 12.0, 17.0]\n",
      "[10.0, 17.0, 19.0]\n",
      "[9.0, 6.0, 14.0]\n"
     ]
    }
   ],
   "source": [
    "model.set_weights(weights)\n",
    "yhat = model.predict(data)\n",
    "for r in range (yhat.shape[1]):\n",
    "    print([yhat[0,r,c,0] for c in range (yhat.shape[2])])"
   ]
  },
  {
   "cell_type": "markdown",
   "id": "496cd69e",
   "metadata": {},
   "source": [
    "Stride"
   ]
  },
  {
   "cell_type": "code",
   "execution_count": 24,
   "id": "954a3820",
   "metadata": {},
   "outputs": [
    {
     "name": "stdout",
     "output_type": "stream",
     "text": [
      "Model: \"sequential_3\"\n",
      "_________________________________________________________________\n",
      " Layer (type)                Output Shape              Param #   \n",
      "=================================================================\n",
      " conv2d_2 (Conv2D)           (None, 2, 2, 1)           10        \n",
      "                                                                 \n",
      "=================================================================\n",
      "Total params: 10\n",
      "Trainable params: 10\n",
      "Non-trainable params: 0\n",
      "_________________________________________________________________\n"
     ]
    }
   ],
   "source": [
    "model = Sequential()\n",
    "model.add(Conv2D(1, (3,3), strides =(2,2), input_shape= (5,5,1)))\n",
    "model.summary()\n"
   ]
  },
  {
   "cell_type": "code",
   "execution_count": 25,
   "id": "d8282cde",
   "metadata": {},
   "outputs": [
    {
     "name": "stdout",
     "output_type": "stream",
     "text": [
      "[12.0, 17.0]\n",
      "[9.0, 14.0]\n"
     ]
    }
   ],
   "source": [
    "model.set_weights(weights)\n",
    "yhat = model.predict(data)\n",
    "for r in range (yhat.shape[1]):\n",
    "    print([yhat[0,r,c,0] for c in range (yhat.shape[2])])"
   ]
  },
  {
   "cell_type": "markdown",
   "id": "b315229d",
   "metadata": {},
   "source": [
    "Padding"
   ]
  },
  {
   "cell_type": "code",
   "execution_count": 26,
   "id": "e4901330",
   "metadata": {},
   "outputs": [
    {
     "name": "stdout",
     "output_type": "stream",
     "text": [
      "Model: \"sequential_4\"\n",
      "_________________________________________________________________\n",
      " Layer (type)                Output Shape              Param #   \n",
      "=================================================================\n",
      " conv2d_3 (Conv2D)           (None, 5, 5, 1)           10        \n",
      "                                                                 \n",
      "=================================================================\n",
      "Total params: 10\n",
      "Trainable params: 10\n",
      "Non-trainable params: 0\n",
      "_________________________________________________________________\n"
     ]
    }
   ],
   "source": [
    "model = Sequential()\n",
    "model.add(Conv2D(1, (3,3), padding ='same', input_shape= (5,5,1)))\n",
    "model.summary()\n"
   ]
  },
  {
   "cell_type": "code",
   "execution_count": 27,
   "id": "ca2e7bdd",
   "metadata": {},
   "outputs": [
    {
     "name": "stdout",
     "output_type": "stream",
     "text": [
      "[6.0, 14.0, 17.0, 11.0, 3.0]\n",
      "[14.0, 12.0, 12.0, 17.0, 11.0]\n",
      "[8.0, 10.0, 17.0, 19.0, 13.0]\n",
      "[11.0, 9.0, 6.0, 14.0, 12.0]\n",
      "[6.0, 4.0, 4.0, 6.0, 4.0]\n"
     ]
    }
   ],
   "source": [
    "model.set_weights(weights)\n",
    "yhat = model.predict(data)\n",
    "for r in range (yhat.shape[1]):\n",
    "    print([yhat[0,r,c,0] for c in range (yhat.shape[2])])"
   ]
  },
  {
   "cell_type": "code",
   "execution_count": null,
   "id": "645a0a99",
   "metadata": {},
   "outputs": [],
   "source": []
  }
 ],
 "metadata": {
  "kernelspec": {
   "display_name": "Python 3 (ipykernel)",
   "language": "python",
   "name": "python3"
  },
  "language_info": {
   "codemirror_mode": {
    "name": "ipython",
    "version": 3
   },
   "file_extension": ".py",
   "mimetype": "text/x-python",
   "name": "python",
   "nbconvert_exporter": "python",
   "pygments_lexer": "ipython3",
   "version": "3.9.4"
  }
 },
 "nbformat": 4,
 "nbformat_minor": 5
}
