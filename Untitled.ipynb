{
 "cells": [
  {
   "cell_type": "code",
   "execution_count": 3,
   "id": "ee2ac7e2",
   "metadata": {},
   "outputs": [],
   "source": [
    "import tensorflow as tf"
   ]
  },
  {
   "cell_type": "code",
   "execution_count": 4,
   "id": "729aa3ff",
   "metadata": {},
   "outputs": [
    {
     "data": {
      "text/plain": [
       "<module 'tensorflow._api.v2.version' from 'c:\\\\users\\\\krish\\\\appdata\\\\local\\\\programs\\\\python\\\\python39\\\\lib\\\\site-packages\\\\tensorflow\\\\_api\\\\v2\\\\version\\\\__init__.py'>"
      ]
     },
     "execution_count": 4,
     "metadata": {},
     "output_type": "execute_result"
    }
   ],
   "source": [
    "tf.version"
   ]
  },
  {
   "cell_type": "code",
   "execution_count": 5,
   "id": "fe531d78",
   "metadata": {},
   "outputs": [],
   "source": [
    "first = tf.constant(\"Hello \")\n",
    "second =  tf.constant(\"Tensorflow\")\n",
    "third = first + second"
   ]
  },
  {
   "cell_type": "code",
   "execution_count": 6,
   "id": "7e5ebf60",
   "metadata": {},
   "outputs": [
    {
     "name": "stdout",
     "output_type": "stream",
     "text": [
      "Hello Tensorflow\r\n"
     ]
    }
   ],
   "source": [
    "tf.print(third)"
   ]
  },
  {
   "cell_type": "markdown",
   "id": "529c03fc",
   "metadata": {},
   "source": [
    "#variable"
   ]
  },
  {
   "cell_type": "code",
   "execution_count": 7,
   "id": "33f7589e",
   "metadata": {},
   "outputs": [
    {
     "name": "stdout",
     "output_type": "stream",
     "text": [
      "22\r\n"
     ]
    }
   ],
   "source": [
    "a= tf.constant(5)\n",
    "b= tf.constant(7)\n",
    "c= tf.constant(10)\n",
    "c= a+b+c\n",
    "tf.print(c)"
   ]
  },
  {
   "cell_type": "markdown",
   "id": "ce5a06f1",
   "metadata": {},
   "source": [
    "Graph"
   ]
  },
  {
   "cell_type": "code",
   "execution_count": 8,
   "id": "96e0b746",
   "metadata": {},
   "outputs": [],
   "source": [
    "a= tf.constant(5)\n",
    "b= tf.constant(7)\n",
    "c= tf.constant(10)"
   ]
  },
  {
   "cell_type": "code",
   "execution_count": 9,
   "id": "e900e312",
   "metadata": {},
   "outputs": [],
   "source": [
    "d= tf.multiply(a,b)\n",
    "e= tf.add(b,c)\n",
    "f= tf.subtract(d,e)"
   ]
  },
  {
   "cell_type": "code",
   "execution_count": 10,
   "id": "7775e421",
   "metadata": {},
   "outputs": [
    {
     "name": "stdout",
     "output_type": "stream",
     "text": [
      "18\r\n"
     ]
    }
   ],
   "source": [
    "tf.print(f)"
   ]
  },
  {
   "cell_type": "markdown",
   "id": "8e32cf10",
   "metadata": {},
   "source": [
    "Fetch"
   ]
  },
  {
   "cell_type": "code",
   "execution_count": 11,
   "id": "2681a55a",
   "metadata": {},
   "outputs": [],
   "source": [
    "fetches = [a,b,c,d,e,f]"
   ]
  },
  {
   "cell_type": "code",
   "execution_count": 12,
   "id": "2cadfc7a",
   "metadata": {},
   "outputs": [
    {
     "name": "stdout",
     "output_type": "stream",
     "text": [
      "[5, 7, 10, 35, 17, 18]\r\n"
     ]
    }
   ],
   "source": [
    "tf.print(fetches)"
   ]
  },
  {
   "cell_type": "markdown",
   "id": "5fe01277",
   "metadata": {},
   "source": [
    "Tensor Array and Shapes "
   ]
  },
  {
   "cell_type": "code",
   "execution_count": 13,
   "id": "3b15c29b",
   "metadata": {},
   "outputs": [
    {
     "name": "stdout",
     "output_type": "stream",
     "text": [
      "[1 2 3]\r\n"
     ]
    }
   ],
   "source": [
    "c= tf.constant([1,2,3])\n",
    "tf.print(c)"
   ]
  },
  {
   "cell_type": "code",
   "execution_count": 14,
   "id": "5fb74562",
   "metadata": {},
   "outputs": [
    {
     "name": "stdout",
     "output_type": "stream",
     "text": [
      "[[1 2 3]\n",
      " [4 5 6]]\r\n"
     ]
    }
   ],
   "source": [
    "d = tf.constant([[1,2,3],[4,5,6]])\n",
    "tf.print(d)"
   ]
  },
  {
   "cell_type": "code",
   "execution_count": 16,
   "id": "f87c8bd4",
   "metadata": {},
   "outputs": [
    {
     "data": {
      "text/plain": [
       "<tf.Tensor: shape=(2,), dtype=int32, numpy=array([2, 3])>"
      ]
     },
     "execution_count": 16,
     "metadata": {},
     "output_type": "execute_result"
    }
   ],
   "source": [
    "tf.shape(d)"
   ]
  },
  {
   "cell_type": "markdown",
   "id": "ee74b580",
   "metadata": {},
   "source": [
    "Sequence"
   ]
  },
  {
   "cell_type": "code",
   "execution_count": 18,
   "id": "d2a4782c",
   "metadata": {},
   "outputs": [
    {
     "name": "stdout",
     "output_type": "stream",
     "text": [
      "[2 2.42105269 2.84210539 ... 9.15789413 9.57894707 10]\r\n"
     ]
    }
   ],
   "source": [
    "d =tf.linspace(start = 2.0 , stop =10.0, num=20 )\n",
    "tf.print(d)\n"
   ]
  },
  {
   "cell_type": "code",
   "execution_count": null,
   "id": "69b3c050",
   "metadata": {},
   "outputs": [],
   "source": []
  }
 ],
 "metadata": {
  "kernelspec": {
   "display_name": "Python 3 (ipykernel)",
   "language": "python",
   "name": "python3"
  },
  "language_info": {
   "codemirror_mode": {
    "name": "ipython",
    "version": 3
   },
   "file_extension": ".py",
   "mimetype": "text/x-python",
   "name": "python",
   "nbconvert_exporter": "python",
   "pygments_lexer": "ipython3",
   "version": "3.9.4"
  }
 },
 "nbformat": 4,
 "nbformat_minor": 5
}
